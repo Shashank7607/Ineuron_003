{
 "cells": [
  {
   "cell_type": "markdown",
   "id": "a43a8260-edfb-45dc-9c1b-19af7257866c",
   "metadata": {},
   "source": [
    "# 1.What are the two values of the Boolean data type? How do you write them?"
   ]
  },
  {
   "cell_type": "code",
   "execution_count": 2,
   "id": "94491cf3-982f-4970-8c4f-5921b3905ff5",
   "metadata": {},
   "outputs": [],
   "source": [
    "# The Boolean data type has two values: true and false. These values represent the two possible states of logic or truth in many programming languages.\n",
    "\n",
    "# Here's how you typically write them in various programming languages:\n",
    "\n",
    "# 1. In JavaScript:\n",
    "\n",
    "# true and false (case-sensitive)\n",
    "# 2. In Python:\n",
    "\n",
    "# True and False (case-sensitive)\n",
    "# 3. In Java:\n",
    "\n",
    "# true and false (case-sensitive)\n",
    "# 4. In C++:\n",
    "\n",
    "# true and false (case-sensitive)\n",
    "# 5. In C#:\n",
    "\n",
    "# true and false (case-sensitive)\n",
    "# 6. In Ruby:\n",
    "\n",
    "# 7. true and false (case-sensitive)\n",
    "# In many other programming languages, the convention is to use true and false, and they are usually case-sensitive.\n",
    "\n",
    "# These Boolean values are used for making logical decisions, conditional statements, and other operations that involve binary logic, where something is either true or false."
   ]
  },
  {
   "cell_type": "markdown",
   "id": "1c10176e-1ce0-4531-ad3b-de179f91848f",
   "metadata": {},
   "source": [
    "# 2. What are the three different types of Boolean operators?"
   ]
  },
  {
   "cell_type": "code",
   "execution_count": 4,
   "id": "b5fd3f50-b1aa-4db7-8b48-93367e329a05",
   "metadata": {},
   "outputs": [],
   "source": [
    "# Boolean operators are used to perform logical operations on Boolean values (true and false). There are three main types of Boolean operators:\n",
    "\n",
    "# 1. AND Operator (&& or AND): This operator returns true if both of its operands are true. It is represented by && in many programming languages. For example, in JavaScript:"
   ]
  },
  {
   "cell_type": "code",
   "execution_count": 6,
   "id": "3a2969be-003b-4873-bf6b-2430cb5c9db6",
   "metadata": {},
   "outputs": [],
   "source": [
    "# true && true   // true\n",
    "# true && false  // false\n",
    "# false && true  // false\n",
    "# false && false // false\n",
    "\n"
   ]
  },
  {
   "cell_type": "code",
   "execution_count": 7,
   "id": "ec9b6568-9d12-4564-aeb8-30f93b60ce3b",
   "metadata": {},
   "outputs": [],
   "source": [
    "# 2. OR Operator (|| or OR): This operator returns true if at least one of its operands is true. It is represented by || in many programming languages. For example, in Python:\n",
    "\n",
    "# True or True   # True\n",
    "# True or False  # True\n",
    "# False or True  # True\n",
    "# False or False # False\n"
   ]
  },
  {
   "cell_type": "code",
   "execution_count": 8,
   "id": "2c8dab44-787d-41dd-bddc-4a987075a36a",
   "metadata": {},
   "outputs": [],
   "source": [
    "# 3. NOT Operator (! or NOT): This operator is a unary operator, meaning it operates on a single operand and returns the opposite Boolean value. It is represented by ! in many programming languages. For example, in C++:\n",
    "\n",
    "# !true  // false\n",
    "# !false // true\n"
   ]
  },
  {
   "cell_type": "code",
   "execution_count": 9,
   "id": "8e1d3c51-3a73-4a76-a812-0245a6baa61d",
   "metadata": {},
   "outputs": [],
   "source": [
    "# These Boolean operators are fundamental for constructing complex logical expressions and making decisions in programming. They are widely used in conditional statements, loops, and other areas where logical conditions are required."
   ]
  },
  {
   "cell_type": "markdown",
   "id": "a2e8c706-118c-4dbb-b233-46be15ca7f65",
   "metadata": {},
   "source": [
    "# 3. Make a list of each Boolean operator&#39;s truth tables (i.e. every possible combination of Boolean\n",
    "# values for the operator and what it evaluate )."
   ]
  },
  {
   "cell_type": "code",
   "execution_count": 12,
   "id": "31ad41f7-fccc-46a5-9d16-a2541b4086d4",
   "metadata": {},
   "outputs": [],
   "source": [
    "# Sure, here are the truth tables for each of the three main Boolean operators: AND, OR, and NOT.\n",
    "\n",
    "\n",
    "# AND Operator (&& or AND):\n",
    "\n",
    "\n",
    "# | Operand 1 | Operand 2 | Result |\n",
    "# |-----------|-----------|--------|\n",
    "# |   false   |   false   | false  |\n",
    "# |   false   |   true    | false  |\n",
    "# |   true    |   false   | false  |\n",
    "# |   true    |   true    | true   |\n",
    "\n",
    "\n",
    "# OR Operator (|| or OR):\n",
    "\n",
    "# | Operand 1 | Operand 2 | Result |\n",
    "# |-----------|-----------|--------|\n",
    "# |   false   |   false   | false  |\n",
    "# |   false   |   true    | true   |\n",
    "# |   true    |   false   | true   |\n",
    "# |   true    |   true    | true   |\n",
    "\n",
    "\n",
    "# NOT Operator (! or NOT):\n",
    "\n",
    "# | Operand | Result |\n",
    "# |---------|--------|\n",
    "# |  false  |  true  |\n",
    "# |  true   |  false |\n",
    "\n",
    "\n",
    "\n",
    "\n",
    "# These truth tables show the result of applying each Boolean operator to all possible combinations of Boolean values for its operands. The result indicates what the operator evaluates to for each combination.\n"
   ]
  },
  {
   "cell_type": "markdown",
   "id": "b1a05af3-5cc1-45f5-8615-f376a7ecdf20",
   "metadata": {},
   "source": [
    "4. What are the values of the following expressions?\n",
    "(5 &gt; 4) and (3 == 5)\n",
    "not (5 &gt; 4)\n",
    "(5 &gt; 4) or (3 == 5)\n",
    "not ((5 &gt; 4) or (3 == 5))\n",
    "(True and True) and (True == False)\n",
    "(not False) or (not True)"
   ]
  },
  {
   "cell_type": "code",
   "execution_count": 13,
   "id": "36917f22-76de-4b52-aefb-9e2225c9ef26",
   "metadata": {},
   "outputs": [],
   "source": [
    "# Let's evaluate each of the given expressions:\n",
    "\n",
    "# 1. (5 > 4) and (3 == 5):\n",
    "\n",
    "# 5 > 4 is true.\n",
    "# 3 == 5 is false.\n",
    "# true and false is false.\n",
    "# 2. not (5 > 4):\n",
    "\n",
    "# 5 > 4 is true.\n",
    "# not true is false.\n",
    "# 3.(5 > 4) or (3 == 5):\n",
    "\n",
    "# 5 > 4 is true.\n",
    "# 3 == 5 is false.\n",
    "# true or false is true.\n",
    "# 4. not ((5 > 4) or (3 == 5)):\n",
    "\n",
    "# 5 > 4 is true.\n",
    "# 3 == 5 is false.\n",
    "# true or false is true.\n",
    "# not true is false.\n",
    "# 5. (True and True) and (True == False):\n",
    "\n",
    "# True and True is true.\n",
    "# True == False is false.\n",
    "# true and false is false.\n",
    "# 6. (not False) or (not True):\n",
    "\n",
    "# not False is true.\n",
    "# not True is false.\n",
    "# true or false is true.\n",
    "# So, the values of the given expressions are as follows:\n",
    "\n",
    "# !.false\n",
    "# 2.false\n",
    "# 3.true\n",
    "# 4.false\n",
    "# 5.false\n",
    "# 6.true"
   ]
  },
  {
   "cell_type": "markdown",
   "id": "ff69b7e3-17ca-44e8-8d30-156deaed4d9c",
   "metadata": {},
   "source": [
    "5. What are the six comparison operators?"
   ]
  },
  {
   "cell_type": "code",
   "execution_count": 14,
   "id": "85b11d38-ddf7-48a0-b861-5ad9e765e1bf",
   "metadata": {},
   "outputs": [],
   "source": [
    "# The six common comparison operators, also known as relational operators, are used to compare values and expressions in programming. These operators determine the relationship between two values and return a Boolean result (either true or `false) based on the comparison. The six comparison operators are:\n",
    "\n",
    "# 1.Equal to (==): Compares whether two values are equal. It returns true if the values are equal and false if they are not.\n",
    "\n",
    "# 2.Not equal to (!=): Compares whether two values are not equal. It returns true if the values are not equal and false if they are equal.\n",
    "\n",
    "# 3.Greater than (>): Checks if the left value is greater than the right value. It returns true if the left value is greater, otherwise false.\n",
    "\n",
    "# 4.Less than (<): Compares whether the left value is less than the right value. It returns true if the left value is less, otherwise false.\n",
    "\n",
    "# 5.Greater than or equal to (>=): Determines if the left value is greater than or equal to the right value. It returns true if the left value is greater or equal, otherwise false.\n",
    "\n",
    "# 6.Less than or equal to (<=): Checks if the left value is less than or equal to the right value. It returns true if the left value is less or equal, otherwise false.\n",
    "\n",
    "# These operators are essential for making conditional decisions in programming and for creating expressions that compare values to control the flow of a program.\n",
    "\n",
    "\n"
   ]
  },
  {
   "cell_type": "markdown",
   "id": "ba254414-d902-4c80-a51e-9ec1f77ffb29",
   "metadata": {},
   "source": [
    "6. How do you tell the difference between the equal to and assignment operators?Describe a\n",
    "condition and when you would use one."
   ]
  },
  {
   "cell_type": "code",
   "execution_count": 15,
   "id": "5526d037-37d7-47cb-bfd3-f3744e567116",
   "metadata": {},
   "outputs": [],
   "source": [
    "# The equal to operator (==) and the assignment operator (=) serve different purposes in programming, and you can differentiate between them by their use and context:\n",
    "\n",
    "# Equal To Operator (==):\n",
    "\n",
    "# This operator is used for comparison and checks if two values are equal.\n",
    "# It returns a Boolean value (true if the values are equal and false if they are not).\n",
    "# It is typically used in conditional statements to compare values or expressions."
   ]
  },
  {
   "cell_type": "code",
   "execution_count": 16,
   "id": "0f91a6fe-335e-49ae-9947-346d8a34c598",
   "metadata": {},
   "outputs": [
    {
     "name": "stdout",
     "output_type": "stream",
     "text": [
      "x is equal to y\n"
     ]
    }
   ],
   "source": [
    "x = 5\n",
    "y = 5\n",
    "if x == y:  # This is a comparison using the equal to operator\n",
    "    print(\"x is equal to y\")\n"
   ]
  },
  {
   "cell_type": "code",
   "execution_count": 17,
   "id": "06cceac2-9905-4269-99fe-ed294b54e858",
   "metadata": {},
   "outputs": [],
   "source": [
    "# 2.Assignment Operator (=):\n",
    "\n",
    "# This operator is used to assign a value to a variable.\n",
    "# It does not perform a comparison; it simply assigns the value on the right to the variable on the left.\n",
    "# It is used to initialize or update variables.\n",
    "# Example:"
   ]
  },
  {
   "cell_type": "code",
   "execution_count": 18,
   "id": "56b6b224-ad90-445d-8b26-4f84cbda1b9c",
   "metadata": {},
   "outputs": [],
   "source": [
    "x = 5  # This is an assignment statement, setting the value of x to 5\n"
   ]
  },
  {
   "cell_type": "code",
   "execution_count": 19,
   "id": "2373fb0a-7b5f-4d19-8962-cb68bed7bb72",
   "metadata": {},
   "outputs": [],
   "source": [
    "# In summary, you can differentiate between the two operators based on their usage:\n",
    "\n",
    "# Use the equal to operator (==) when you want to compare two values or expressions to determine if they are equal. It is commonly used in conditional statements to make decisions based on the equality of values.\n",
    "\n",
    "# Use the assignment operator (=) when you want to assign a value to a variable or update the value of a variable. It is used for variable initialization and updating variable values in your code.\n",
    "\n",
    "# For example, you might use the equal to operator in an if statement to check a condition, while you would use the assignment operator to set the initial value of a variable or update it during the program's execution."
   ]
  },
  {
   "cell_type": "markdown",
   "id": "4a9130a7-7988-4099-9c58-889d9ebec55b",
   "metadata": {},
   "source": [
    "7. Identify the three blocks in this code:\n",
    "spam = 0\n",
    "if spam == 10:\n",
    "print(&#39;eggs&#39;)\n",
    "if spam &gt; 5:\n",
    "print(&#39;bacon&#39;)\n",
    "else:\n",
    "print(&#39;ham&#39;)\n",
    "print(&#39;spam&#39;)\n",
    "print(&#39;spam&#39;)"
   ]
  },
  {
   "cell_type": "code",
   "execution_count": 20,
   "id": "51dd2088-4085-448f-a99b-8d186e783595",
   "metadata": {},
   "outputs": [],
   "source": [
    "# In the provided code, there are three distinct code blocks that can be identified. Code blocks are typically delineated by indentation in most programming languages. Here are the three blocks:\n",
    "\n",
    "# Block 1:"
   ]
  },
  {
   "cell_type": "code",
   "execution_count": 21,
   "id": "c6ba7f1a-49ac-4a2a-a46e-4a51f484f348",
   "metadata": {},
   "outputs": [],
   "source": [
    "spam = 0\n",
    "if spam == 10:\n",
    "    print('eggs')\n"
   ]
  },
  {
   "cell_type": "code",
   "execution_count": 22,
   "id": "cb00c3cc-9981-4e26-a7c2-f81ffe075f3c",
   "metadata": {},
   "outputs": [],
   "source": [
    "# Explanation:\n",
    "\n",
    "# This is the first code block.\n",
    "# It consists of the lines where spam is assigned the value 0 and the if statement that checks if spam is equal to 10.\n",
    "# Since spam is not equal to 10, the print('eggs') statement within this block will not be executed.\n",
    "# Block 2:"
   ]
  },
  {
   "cell_type": "code",
   "execution_count": 23,
   "id": "6d16041f-3890-4b6c-8a35-baf50c6ef311",
   "metadata": {},
   "outputs": [
    {
     "name": "stdout",
     "output_type": "stream",
     "text": [
      "ham\n"
     ]
    }
   ],
   "source": [
    "if spam > 5:\n",
    "    print('bacon')\n",
    "else:\n",
    "    print('ham')\n"
   ]
  },
  {
   "cell_type": "code",
   "execution_count": 24,
   "id": "12ee8eaf-335d-409a-8ea8-70c738aa7afd",
   "metadata": {},
   "outputs": [],
   "source": [
    "# Explanation:\n",
    "\n",
    "# This is the second code block.\n",
    "# It includes the if statement that checks if spam is greater than 5 and the subsequent print statements.\n",
    "# The if condition is not met because spam is 0, which is not greater than 5. Therefore, the else block will be executed, and 'ham' will be printed.\n",
    "# Block 3:"
   ]
  },
  {
   "cell_type": "code",
   "execution_count": 25,
   "id": "9c053b80-2913-4c18-8ce2-4cb5abf11063",
   "metadata": {},
   "outputs": [
    {
     "name": "stdout",
     "output_type": "stream",
     "text": [
      "spam\n",
      "spam\n"
     ]
    }
   ],
   "source": [
    "print('spam')\n",
    "print('spam')\n"
   ]
  },
  {
   "cell_type": "code",
   "execution_count": 26,
   "id": "8f83b7ec-563d-4af2-9988-4306eecfadf1",
   "metadata": {},
   "outputs": [],
   "source": [
    "# Explanation:\n",
    "\n",
    "# This is the third code block.\n",
    "# It consists of the two print statements that are not inside any conditional statements.\n",
    "# These print statements will be executed regardless of the value of spam.\n",
    "# So, the three code blocks in this code are as described above.\n"
   ]
  },
  {
   "cell_type": "markdown",
   "id": "5f1900b2-70c2-446f-ac99-4bcfc32a0754",
   "metadata": {},
   "source": [
    "8. Write code that prints Hello if 1 is stored in spam, prints Howdy if 2 is stored in spam, and prints\n",
    "Greetings! if anything else is stored in spam."
   ]
  },
  {
   "cell_type": "code",
   "execution_count": 27,
   "id": "0418bad7-d059-4370-bdda-77ee2aabc7ef",
   "metadata": {},
   "outputs": [],
   "source": [
    "# You can achieve this using an if-elif-else statement in Python. Here's the code that prints \"Hello\" if 1 is stored in spam, \"Howdy\" if 2 is stored in spam, and \"Greetings!\" for any other value"
   ]
  },
  {
   "cell_type": "code",
   "execution_count": 29,
   "id": "4152ad90-1440-4023-9a20-36abe2f242eb",
   "metadata": {},
   "outputs": [
    {
     "ename": "SyntaxError",
     "evalue": "invalid syntax (3967818015.py, line 1)",
     "output_type": "error",
     "traceback": [
      "\u001b[0;36m  Cell \u001b[0;32mIn [29], line 1\u001b[0;36m\u001b[0m\n\u001b[0;31m    spam =  Assign the value you want to test here\u001b[0m\n\u001b[0m                   ^\u001b[0m\n\u001b[0;31mSyntaxError\u001b[0m\u001b[0;31m:\u001b[0m invalid syntax\n"
     ]
    }
   ],
   "source": [
    "spam = #  Assign the value you want to test here\n",
    "\n",
    "if spam == 1:\n",
    "    print(\"Hello\")\n",
    "elif spam == 2:\n",
    "    print(\"Howdy\")\n",
    "else:\n",
    "    print(\"Greetings!\")\n"
   ]
  },
  {
   "cell_type": "code",
   "execution_count": 30,
   "id": "f789799f-1d54-47b7-8899-15918a921d8d",
   "metadata": {},
   "outputs": [],
   "source": [
    "# Replace the comment # Assign the value you want to test here with the actual value you want to store in the spam variable, and the code will print the corresponding message based on the value of spam."
   ]
  },
  {
   "cell_type": "markdown",
   "id": "8f569bcc-e7d0-4dd5-ad9a-240447437dcc",
   "metadata": {},
   "source": [
    "9.If your programme is stuck in an endless loop, what keys you’ll press?"
   ]
  },
  {
   "cell_type": "code",
   "execution_count": 32,
   "id": "78108f91-16de-4770-8177-a91c0b0caa6c",
   "metadata": {},
   "outputs": [],
   "source": [
    "# If your program is stuck in an endless loop and you want to interrupt or stop it, you can typically press one of the following key combinations, depending on your operating system and development environment:\n",
    "\n",
    "# 1. Ctrl+C (or Command+C on macOS): This key combination sends an interrupt signal to the running program, causing it to terminate. It is a common way to break out of a running program in most command-line environments.\n",
    "\n",
    "# 2.Ctrl+Break (Windows): On Windows, you can use Ctrl+Break to interrupt a running program in a command prompt.\n",
    "\n",
    "# 3.Ctrl+Z (Unix-based systems): On Unix-based systems (Linux, macOS, etc.), you can use Ctrl+Z to suspend a program. You can then use the kill or fg command to terminate or resume the program.\n",
    "\n",
    "# 4.Ctrl+Alt+Delete (Windows): If your computer becomes unresponsive due to a running program, you can press Ctrl+Alt+Delete to open the Task Manager, where you can force-terminate the program.\n",
    "\n",
    "# 5.Force Quit (macOS): On macOS, you can press Command+Option+Escape to open the Force Quit Applications window, where you can terminate unresponsive programs.\n",
    "\n",
    "# Please note that forcefully terminating a program may result in data loss or other unexpected behavior, so use these methods judiciously. It's always a good practice to write your code in a way that prevents endless loops, but these key combinations can be handy in case of unexpected issues during development or testing.\n",
    "\n"
   ]
  },
  {
   "cell_type": "markdown",
   "id": "a55a6a82-de91-47a9-ac1d-d544476b9bbe",
   "metadata": {},
   "source": [
    "10. How can you tell the difference between break and continue?"
   ]
  },
  {
   "cell_type": "code",
   "execution_count": 33,
   "id": "4b836abb-47d5-4c57-ada6-d431e7851d3d",
   "metadata": {},
   "outputs": [],
   "source": [
    "# break and continue are two control flow statements in programming that are used within loops (such as for and while loops) to modify the flow of execution. Here's how you can tell the difference between them:\n",
    "\n",
    "# break statement:\n",
    "\n",
    "# The break statement is used to exit or terminate a loop prematurely.\n",
    "# When break is encountered within a loop, the loop is immediately exited, and control moves to the statement immediately following the loop.\n",
    "# It is often used when a certain condition is met, and you want to exit the loop early.\n",
    "# Example (in Python):"
   ]
  },
  {
   "cell_type": "code",
   "execution_count": 34,
   "id": "ebfe7814-3781-4198-8848-6a1755118d5a",
   "metadata": {},
   "outputs": [
    {
     "name": "stdout",
     "output_type": "stream",
     "text": [
      "1\n",
      "2\n"
     ]
    }
   ],
   "source": [
    "for i in range(1, 6):\n",
    "    if i == 3:\n",
    "        break  # This will exit the loop when i equals 3\n",
    "    print(i)\n"
   ]
  },
  {
   "cell_type": "code",
   "execution_count": 35,
   "id": "66662d0e-a8fa-4a8f-b743-fc487e248f4d",
   "metadata": {},
   "outputs": [],
   "source": [
    "# 2. continue statement:\n",
    "\n",
    "# The continue statement is used to skip the current iteration of a loop and move to the next iteration.\n",
    "# When continue is encountered within a loop, the remaining code within the current iteration is skipped, and the loop proceeds to the next iteration.\n",
    "# It is often used when you want to skip certain iterations of a loop based on a condition, but you don't want to exit the loop entirely.\n",
    "# Example (in Python):"
   ]
  },
  {
   "cell_type": "code",
   "execution_count": 36,
   "id": "778fad88-20c9-4744-8d90-ab1d30920966",
   "metadata": {},
   "outputs": [
    {
     "name": "stdout",
     "output_type": "stream",
     "text": [
      "1\n",
      "2\n",
      "4\n",
      "5\n"
     ]
    }
   ],
   "source": [
    "for i in range(1, 6):\n",
    "    if i == 3:\n",
    "        continue  # This will skip the iteration when i equals 3\n",
    "    print(i)\n"
   ]
  },
  {
   "cell_type": "code",
   "execution_count": 37,
   "id": "046209ae-3d00-45df-ae46-bfeafa67231b",
   "metadata": {},
   "outputs": [],
   "source": [
    "# In summary, break is used to exit a loop, while continue is used to skip the current iteration and move to the next one. Both statements are helpful for controlling the flow of loops and are used in different scenarios depending on the desired behavior of your program."
   ]
  },
  {
   "cell_type": "markdown",
   "id": "17d3bc13-3981-4fe0-942a-07f2b550e788",
   "metadata": {},
   "source": [
    "11. In a for loop, what is the difference between range(10), range(0, 10), and range(0, 10, 1)?"
   ]
  },
  {
   "cell_type": "code",
   "execution_count": 38,
   "id": "875a8795-dff6-4b2d-b796-d33449f4aefe",
   "metadata": {},
   "outputs": [],
   "source": [
    "# In Python, for loops are commonly used with the range() function to iterate over a sequence of numbers. The three expressions you provided (range(10), range(0, 10), and range(0, 10, 1)) are equivalent in terms of their behavior, as they all create a range of numbers from 0 to 9. However, there are some differences in how they are specified:\n",
    "\n",
    "# 1.range(10):\n",
    "\n",
    "# This expression specifies a range that starts at 0 (which is the default starting value) and goes up to, but does not include, 10. So, it generates numbers from 0 to 9 in steps of 1.\n",
    "# The step size is not explicitly mentioned, so it defaults to 1.\n",
    "# 2.range(0, 10):\n",
    "\n",
    "# This expression explicitly specifies the start and stop values of the range. It starts at 0 and goes up to, but does not include, 10.\n",
    "# Like the previous case, it generates numbers from 0 to 9 in steps of 1.\n",
    "# 3.range(0, 10, 1):\n",
    "\n",
    "# This expression explicitly specifies the start, stop, and step values of the range. It starts at 0, goes up to, but does not include, 10, and increments by 1 at each step.\n",
    "# In this case, the step size is explicitly set to 1, which is the same as the default step size.\n",
    "# In summary, all three expressions range(10), range(0, 10), and range(0, 10, 1) will produce the same sequence of numbers: 0, 1, 2, 3, 4, 5, 6, 7, 8, and 9. The difference lies in how you choose to specify the start and step values. The most concise and common form is range(10), as it omits the default values for clarity."
   ]
  },
  {
   "cell_type": "markdown",
   "id": "1c28ce49-1919-4be9-916e-7fac59442b86",
   "metadata": {},
   "source": [
    "12. Write a short program that prints the numbers 1 to 10 using a for loop. Then write an equivalent\n",
    "program that prints the numbers 1 to 10 using a while loop."
   ]
  },
  {
   "cell_type": "code",
   "execution_count": 39,
   "id": "1e56528a-f82a-4e04-8377-7d4a70bd5a71",
   "metadata": {},
   "outputs": [],
   "source": [
    "# Here are two short Python programs, one using a for loop and the other using a while loop, to print the numbers from 1 to 10:\n",
    "\n",
    "# Using a for loop:"
   ]
  },
  {
   "cell_type": "code",
   "execution_count": 40,
   "id": "1c6b0083-6abd-4ff3-8639-d07d3a134add",
   "metadata": {},
   "outputs": [
    {
     "name": "stdout",
     "output_type": "stream",
     "text": [
      "1\n",
      "2\n",
      "3\n",
      "4\n",
      "5\n",
      "6\n",
      "7\n",
      "8\n",
      "9\n",
      "10\n"
     ]
    }
   ],
   "source": [
    "for i in range(1, 11):\n",
    "    print(i)\n"
   ]
  },
  {
   "cell_type": "code",
   "execution_count": 41,
   "id": "fe17eccd-ceb0-4ed2-98c9-ff42951baaa2",
   "metadata": {},
   "outputs": [],
   "source": [
    "# Using a while loop:"
   ]
  },
  {
   "cell_type": "code",
   "execution_count": 42,
   "id": "1615907c-f782-490c-94ab-6258bb4cf4d5",
   "metadata": {},
   "outputs": [
    {
     "name": "stdout",
     "output_type": "stream",
     "text": [
      "1\n",
      "2\n",
      "3\n",
      "4\n",
      "5\n",
      "6\n",
      "7\n",
      "8\n",
      "9\n",
      "10\n"
     ]
    }
   ],
   "source": [
    "i = 1\n",
    "while i <= 10:\n",
    "    print(i)\n",
    "    i += 1\n"
   ]
  },
  {
   "cell_type": "code",
   "execution_count": 43,
   "id": "365ac6c3-42fd-420c-9cbc-e4f166993750",
   "metadata": {},
   "outputs": [],
   "source": [
    "# Both of these programs will produce the same output, printing the numbers from 1 to 10. The for loop is often more concise and convenient for iterating over a range of values, while the while loop gives you more control and flexibility in some situations."
   ]
  },
  {
   "cell_type": "markdown",
   "id": "ae90a4a3-196b-4e91-a1db-9885dfe155f2",
   "metadata": {},
   "source": [
    "13. If you had a function named bacon() inside a module named spam, how would you call it after\n",
    "importing spam?"
   ]
  },
  {
   "cell_type": "code",
   "execution_count": 44,
   "id": "21fd2eb4-91b0-45f4-8b95-b67e37395a81",
   "metadata": {},
   "outputs": [],
   "source": [
    "# To call the bacon() function from the spam module after importing it, you would use the following syntax:"
   ]
  },
  {
   "cell_type": "code",
   "execution_count": 45,
   "id": "eca8e5ce-6292-49dc-9296-ee3ba5865f87",
   "metadata": {},
   "outputs": [
    {
     "ename": "ModuleNotFoundError",
     "evalue": "No module named 'spam'",
     "output_type": "error",
     "traceback": [
      "\u001b[0;31m---------------------------------------------------------------------------\u001b[0m",
      "\u001b[0;31mModuleNotFoundError\u001b[0m                       Traceback (most recent call last)",
      "Cell \u001b[0;32mIn [45], line 1\u001b[0m\n\u001b[0;32m----> 1\u001b[0m \u001b[38;5;28;01mimport\u001b[39;00m \u001b[38;5;21;01mspam\u001b[39;00m  \u001b[38;5;66;03m# Import the spam module\u001b[39;00m\n\u001b[1;32m      3\u001b[0m \u001b[38;5;66;03m# Call the bacon() function from the spam module\u001b[39;00m\n\u001b[1;32m      4\u001b[0m spam\u001b[38;5;241m.\u001b[39mbacon()\n",
      "\u001b[0;31mModuleNotFoundError\u001b[0m: No module named 'spam'"
     ]
    }
   ],
   "source": [
    "import spam  # Import the spam module\n",
    "\n",
    "# Call the bacon() function from the spam module\n",
    "spam.bacon()\n"
   ]
  },
  {
   "cell_type": "code",
   "execution_count": 46,
   "id": "73e7379e-b138-47f6-b34e-9a29009ba249",
   "metadata": {},
   "outputs": [],
   "source": [
    "# Assuming that the bacon() function is defined inside the spam module, this code imports the spam module and then calls the bacon() function using the module name as a prefix, followed by a dot (.)."
   ]
  },
  {
   "cell_type": "code",
   "execution_count": null,
   "id": "7aa0902b-4a30-4a40-aedf-bb6494ee9604",
   "metadata": {},
   "outputs": [],
   "source": []
  }
 ],
 "metadata": {
  "kernelspec": {
   "display_name": "Python 3 (ipykernel)",
   "language": "python",
   "name": "python3"
  },
  "language_info": {
   "codemirror_mode": {
    "name": "ipython",
    "version": 3
   },
   "file_extension": ".py",
   "mimetype": "text/x-python",
   "name": "python",
   "nbconvert_exporter": "python",
   "pygments_lexer": "ipython3",
   "version": "3.10.6"
  }
 },
 "nbformat": 4,
 "nbformat_minor": 5
}
